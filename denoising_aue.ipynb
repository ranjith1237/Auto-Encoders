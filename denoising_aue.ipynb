{
 "cells": [
  {
   "cell_type": "markdown",
   "metadata": {},
   "source": [
    "# Denoising Auto Encoder on MNIST data\n",
    "given a noisy samples we try to generate the same samples without noise"
   ]
  },
  {
   "cell_type": "code",
   "execution_count": 9,
   "metadata": {},
   "outputs": [],
   "source": [
    "import numpy as np\n",
    "import imageio\n",
    "import torch\n",
    "import torch.nn as nn\n",
    "from torch.nn import Sequential\n",
    "from torch.nn import Linear,ReLU,Sigmoid,Dropout,Tanh\n",
    "from torch.nn import MSELoss,BCELoss\n",
    "from torch import optim\n",
    "from torch.autograd.variable import Variable\n",
    "from torch.utils.data import DataLoader\n",
    "from torchvision import transforms\n",
    "from torchvision.datasets import MNIST\n",
    "import matplotlib.pyplot as plt\n",
    "from torchvision.utils import make_grid"
   ]
  },
  {
   "cell_type": "code",
   "execution_count": 10,
   "metadata": {},
   "outputs": [],
   "source": [
    "device = torch.device(\"cuda:0\" if torch.cuda.is_available() else \"cpu\")"
   ]
  },
  {
   "cell_type": "code",
   "execution_count": 11,
   "metadata": {},
   "outputs": [],
   "source": [
    "transform = transforms.Compose([        \n",
    "        transforms.ToTensor(),\n",
    "        transforms.Normalize((0.5,),(0.5,))\n",
    "])\n",
    "data = MNIST(root=\"./mnist_data\",train=True,download=True,transform=transform)\n",
    "trainloader = DataLoader(data,batch_size=64,shuffle=True)"
   ]
  },
  {
   "cell_type": "code",
   "execution_count": 12,
   "metadata": {
    "scrolled": true
   },
   "outputs": [
    {
     "data": {
      "image/png": "[encoded data removed]",
      "text/plain": [
       "<Figure size 432x288 with 9 Axes>"
      ]
     },
     "metadata": {},
     "output_type": "display_data"
    }
   ],
   "source": [
    "samples = enumerate(trainloader)\n",
    "b_idx,(inp,targ) = next(samples)\n",
    "\n",
    "for i in range(9):\n",
    "    plt.subplot(3,3,i+1)\n",
    "    plt.tight_layout()\n",
    "    plt.imshow(inp[i][0],cmap=\"gray\",interpolation=\"none\")\n",
    "    plt.title(\"Ground truth : {}\".format(targ[i]))\n",
    "    plt.xticks([])\n",
    "    plt.yticks([])"
   ]
  },
  {
   "cell_type": "markdown",
   "metadata": {},
   "source": [
    "##### Implementing vanilla model "
   ]
  },
  {
   "cell_type": "code",
   "execution_count": 13,
   "metadata": {},
   "outputs": [],
   "source": [
    "class autoencoder(nn.Module):\n",
    "    def __init__(self):\n",
    "        super(autoencoder,self).__init__()\n",
    "        self.encoder = Sequential(\n",
    "            Linear(784,256),\n",
    "            ReLU(True),\n",
    "            Dropout(0.2),\n",
    "            Linear(256,64),\n",
    "            ReLU(True)\n",
    "        )\n",
    "        self.decoder = Sequential(\n",
    "            # hidden state vector will be 64 size one\n",
    "            Linear(64,256),\n",
    "            ReLU(True),\n",
    "            Dropout(0.2),\n",
    "            Linear(256,784),\n",
    "            Sigmoid()\n",
    "        )\n",
    "        \n",
    "    def forward(self,x): \n",
    "        #x = x.view(-1,784)\n",
    "        z = self.encoder(x)\n",
    "        output = self.decoder(z)\n",
    "        #output = output.view(-1,1,28,28)\n",
    "        return output"
   ]
  },
  {
   "cell_type": "code",
   "execution_count": 14,
   "metadata": {},
   "outputs": [],
   "source": [
    "aue = autoencoder()\n",
    "aue.to(device)\n",
    "aue_optim = optim.Adam(aue.parameters(),lr=0.01,weight_decay=1e-5)\n",
    "criterion = MSELoss()\n",
    "images = []\n",
    "\n",
    "def add_noise(tensor,mean=0., std=1.):\n",
    "    return tensor + torch.randn(tensor.size()) * std + mean"
   ]
  },
  {
   "cell_type": "code",
   "execution_count": null,
   "metadata": {
    "scrolled": false
   },
   "outputs": [
    {
     "name": "stdout",
     "output_type": "stream",
     "text": [
      "loss in epoch: 0/100 is 1.9114246368408203\n",
      "loss in epoch: 1/100 is 1.927992820739746\n",
      "loss in epoch: 2/100 is 1.9201161861419678\n",
      "loss in epoch: 3/100 is 1.906660556793213\n",
      "loss in epoch: 4/100 is 1.9435091018676758\n",
      "loss in epoch: 5/100 is 1.9294791221618652\n",
      "loss in epoch: 6/100 is 1.9047669172286987\n",
      "loss in epoch: 7/100 is 1.9338126182556152\n",
      "loss in epoch: 8/100 is 1.9031211137771606\n",
      "loss in epoch: 9/100 is 1.858297348022461\n",
      "loss in epoch: 10/100 is 1.946396827697754\n"
     ]
    }
   ],
   "source": [
    "num_epochs = 100\n",
    "for epoch in range(num_epochs):\n",
    "    curr_loss=0.0\n",
    "    for i,(inp,_) in enumerate(trainloader):\n",
    "        aue_inp = inp.view(-1,784)\n",
    "        noisy_img = add_noise(aue_inp).to(device)\n",
    "        denoise_img = aue(noisy_img)\n",
    "        aue_inp =  Variable(aue_inp).to(device)\n",
    "        aue_loss = criterion(denoise_img,aue_inp)\n",
    "        aue_loss.backward()\n",
    "        aue_optim.zero_grad()\n",
    "        aue_optim.step()\n",
    "        curr_loss+=aue_loss\n",
    "    \n",
    "    print(\"loss in epoch: {}/{} is {.5f}\".format(epoch,num_epochs,aue_loss.data))\n",
    "    '''\n",
    "        if epoch%2==0:\n",
    "            x_input_img = transforms.ToPILImage()(make_grid(aue_input.cpu().data))\n",
    "            x_noise_img = transforms.ToPILImage()(make_grid(noisy_img.cpu().data))\n",
    "            x_output_img = transforms.ToPILImage()(make_grid(denoise_img.cpu().data))\n",
    "            plt.imshow(x_input_img)\n",
    "            plt.imshow(x_noise_img)\n",
    "            plt.imshow(x_output_img)\n",
    "    '''\n",
    "\n",
    "torch.save(aue.state_dict(),'dae.pt')"
   ]
  },
  {
   "cell_type": "code",
   "execution_count": null,
   "metadata": {},
   "outputs": [],
   "source": []
  },
  {
   "cell_type": "code",
   "execution_count": null,
   "metadata": {},
   "outputs": [],
   "source": []
  }
 ],
 "metadata": {
  "kernelspec": {
   "display_name": "Python 3",
   "language": "python",
   "name": "python3"
  },
  "language_info": {
   "codemirror_mode": {
    "name": "ipython",
    "version": 3
   },
   "file_extension": ".py",
   "mimetype": "text/x-python",
   "name": "python",
   "nbconvert_exporter": "python",
   "pygments_lexer": "ipython3",
   "version": "3.7.4"
  }
 },
 "nbformat": 4,
 "nbformat_minor": 2
}
